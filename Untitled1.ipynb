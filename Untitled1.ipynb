{
 "cells": [
  {
   "cell_type": "code",
   "execution_count": null,
   "id": "ba709178-bfe3-401a-bb61-e77b99c5edf2",
   "metadata": {},
   "outputs": [],
   "source": [
    "#read input\n",
    "data_url = 'loan_applic.csv'\n",
    "df = pd.read_csv(data_url)\n",
    "df = df.drop(columns=['Application Number','crime_record','Application: BPA Broker Negotiation'])\n",
    "from datetime import datetime\n",
    "df['Application: Close Date'] = df['Application: Close Date'].apply(lambda x: datetime.strptime(x, \"%m/%d/%Y\").timestamp())\n",
    "df['Yearly Total Sales'] = pd.to_numeric(df['Yearly Total Sales'].str.replace(',', '')) # a lot\n",
    "numeric_columns = df.select_dtypes(include=[np.number]).columns.tolist()\n",
    "object_cols = df.select_dtypes(include='object').columns.tolist()\n",
    "for col in object_cols:\n",
    "    df[col] = df[col].fillna('Missing')   \n",
    "for col in numeric_columns:\n",
    "    mean_value = df[col].mean()\n",
    "    df[col] = df[col].fillna(mean_value)\n",
    "y = df['Outcome']\n",
    "X = df.drop(columns=['Outcome'])"
   ]
  }
 ],
 "metadata": {
  "kernelspec": {
   "display_name": "Python 3 (ipykernel)",
   "language": "python",
   "name": "python3"
  },
  "language_info": {
   "codemirror_mode": {
    "name": "ipython",
    "version": 3
   },
   "file_extension": ".py",
   "mimetype": "text/x-python",
   "name": "python",
   "nbconvert_exporter": "python",
   "pygments_lexer": "ipython3",
   "version": "3.10.12"
  }
 },
 "nbformat": 4,
 "nbformat_minor": 5
}
