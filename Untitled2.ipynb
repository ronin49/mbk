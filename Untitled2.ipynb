{
 "cells": [
  {
   "cell_type": "code",
   "execution_count": 204,
   "id": "5bb2d1af-bbff-4f70-9ad2-47a2de24391c",
   "metadata": {},
   "outputs": [
    {
     "data": {
      "text/plain": [
       "{'Amount',\n",
       " 'Application: Buy Rate',\n",
       " 'Application: Funded Amount',\n",
       " 'Applications received All Time',\n",
       " 'Applications received by last 1 Month',\n",
       " 'Applications received by last 3 Months',\n",
       " 'Applications received by last 6 Months',\n",
       " 'Average Monthly Sales',\n",
       " 'Brokers submitted All Time',\n",
       " 'Brokers submitted last 1 month',\n",
       " 'Brokers submitted last 3 months',\n",
       " 'Brokers submitted last 6 months',\n",
       " 'Days',\n",
       " 'Factor Rate',\n",
       " 'Months',\n",
       " 'Number of Trade Lines',\n",
       " 'Satisfactory',\n",
       " 'Volume - 4 Months Ago',\n",
       " 'Volume - 6 Months Ago',\n",
       " 'Volume - Three Months Ago',\n",
       " 'Yearly Total Sales'}"
      ]
     },
     "execution_count": 204,
     "metadata": {},
     "output_type": "execute_result"
    }
   ],
   "source": [
    "data_url = 'loan_applic.csv'"
   ]
  }
 ],
 "metadata": {
  "kernelspec": {
   "display_name": "Python 3 (ipykernel)",
   "language": "python",
   "name": "python3"
  },
  "language_info": {
   "codemirror_mode": {
    "name": "ipython",
    "version": 3
   },
   "file_extension": ".py",
   "mimetype": "text/x-python",
   "name": "python",
   "nbconvert_exporter": "python",
   "pygments_lexer": "ipython3",
   "version": "3.10.12"
  }
 },
 "nbformat": 4,
 "nbformat_minor": 5
}
