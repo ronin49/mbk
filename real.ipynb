{
 "cells": [
  {
   "cell_type": "code",
   "execution_count": 64,
   "id": "c9892937-4c13-423a-8bba-30e7cf9878db",
   "metadata": {},
   "outputs": [
    {
     "name": "stdout",
     "output_type": "stream",
     "text": [
      "0:\tlearn: 0.4412956\ttest: 0.4396796\tbest: 0.4396796 (0)\ttotal: 9.44ms\tremaining: 9.43s\n",
      "100:\tlearn: 0.3971960\ttest: 0.4219656\tbest: 0.4219124 (93)\ttotal: 781ms\tremaining: 6.95s\n",
      "200:\tlearn: 0.3758538\ttest: 0.4213942\tbest: 0.4209813 (151)\ttotal: 1.53s\tremaining: 6.08s\n",
      "Stopped by overfitting detector  (50 iterations wait)\n",
      "\n",
      "bestTest = 0.420981329\n",
      "bestIteration = 151\n",
      "\n",
      "Shrink model to first 152 iterations.\n",
      "Mean Squared Error: 0.17722527935623264\n"
     ]
    }
   ],
   "source": [
    "import pandas as pd\n",
    "from catboost import CatBoostRegressor\n",
    "from sklearn.model_selection import train_test_split\n",
    "from sklearn.metrics import mean_squared_error\n",
    "from sklearn.preprocessing import LabelEncoder\n",
    "\n",
    "# Load the dataset\n",
    "data_url = 'loan_applic.csv'  # Replace this with your dataset URL or local path\n",
    "df = pd.read_csv(data_url)\n",
    "\n",
    "# Split the data into features and target variable\n",
    "X = df.drop(columns=['Application Number', 'Outcome',\n",
    "\n",
    "                    ])  # Exclude non-predictive columns\n",
    "X = X.replace(',', '', regex=True)\n",
    "#X = X.fillna('Missing')\n",
    "# Encode categorical labels\n",
    "label_encoder = LabelEncoder()\n",
    "df['Outcome'] = label_encoder.fit_transform(df['Outcome'])\n",
    "y = df['Outcome']  # Assuming 'Outcome' is the target variable for regression\n",
    "\n",
    "# Train the model\n",
    "cat_features = [\n",
    "                     'Application: Remittance Frequency',\n",
    "                     'Primary Contact Gender',\n",
    "                     'Application: Close Date',\n",
    "                     'crime_record',\n",
    "                     'Has Website',\n",
    "                     'Industry',\n",
    "                     'Office Space',\n",
    "                     'Position',\n",
    "                     'Shipping State',\n",
    "                     'Type',\n",
    "]\n",
    "# Replace NaN values with 'Missing' in specified columns\n",
    "for col in cat_features:\n",
    "    X[col] = X[col].fillna('Missing')\n",
    "\n",
    "# Split data into training and testing sets\n",
    "X_train, X_test, y_train, y_test = train_test_split(X, y, test_size=0.2, random_state=42)\n",
    "\n",
    "# Initialize CatBoostRegressor\n",
    "model = CatBoostRegressor(iterations=1000,  # Number of trees (boosting iterations)\n",
    "                          learning_rate=0.1,  # Step size shrinkage used in update to prevent overfitting\n",
    "                          depth=6,  # Depth of trees\n",
    "                          loss_function='RMSE',  # Loss function for regression\n",
    "                          random_state=42)\n",
    "\n",
    "\n",
    "\n",
    "model.fit(X_train, y_train, eval_set=(X_test, y_test), early_stopping_rounds=50, verbose=100,\n",
    "          cat_features=cat_features\n",
    "         )\n",
    "\n",
    "# Make predictions\n",
    "y_pred = model.predict(X_test)\n",
    "\n",
    "# Evaluate the model\n",
    "mse = mean_squared_error(y_test, y_pred)\n",
    "print(f\"Mean Squared Error: {mse}\")"
   ]
  }
 ],
 "metadata": {
  "kernelspec": {
   "display_name": "Python 3 (ipykernel)",
   "language": "python",
   "name": "python3"
  },
  "language_info": {
   "codemirror_mode": {
    "name": "ipython",
    "version": 3
   },
   "file_extension": ".py",
   "mimetype": "text/x-python",
   "name": "python",
   "nbconvert_exporter": "python",
   "pygments_lexer": "ipython3",
   "version": "3.10.12"
  }
 },
 "nbformat": 4,
 "nbformat_minor": 5
}
