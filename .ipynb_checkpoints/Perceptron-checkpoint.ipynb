{
 "cells": [
  {
   "cell_type": "code",
   "execution_count": 1,
   "id": "7142b0e0-4326-43f9-bb3f-851c303ebe69",
   "metadata": {},
   "outputs": [],
   "source": [
    "import pandas as pd\n",
    "data= pd.read_csv(\n",
    "    \"winequalityN.csv\")\n",
    "\n",
    "threshold = data['quality'].max()/2+1  # Define your threshold\n",
    "\n",
    "data['quality'] = (data['quality'] > threshold).astype(int)\n",
    "data['type'] = data['type'].apply(lambda x: 0 if x=='white' else 1)\n",
    "counts = data['quality'].value_counts()\n",
    "target_count = min(counts)\n",
    "balanced_data = pd.concat([\n",
    "    data[data['quality'] == 0].sample(target_count, replace=True),\n",
    "    data[data['quality'] == 1].sample(target_count, replace=True)\n",
    "])\n",
    "balanced_data = balanced_data.sample(frac=1).reset_index(drop=True)\n",
    "balanced_data['quality'].value_counts()\n",
    "#data = balanced_data\n",
    "features = data.copy()\n",
    "features.fillna(0, inplace=True)\n",
    "labels = features.pop('quality')\n",
    "import numpy as np\n",
    "features = np.array(features)\n",
    "from sklearn.model_selection import StratifiedShuffleSplit\n",
    "sss = StratifiedShuffleSplit(n_splits=1,test_size=0.3,random_state=0)\n",
    "for train_index, test_index in sss.split(features,labels):\n",
    "    X_train, X_test = features[train_index],features[test_index]\n",
    "    y_train, y_test = labels[train_index],labels[test_index]"
   ]
  },
  {
   "cell_type": "code",
   "execution_count": 2,
   "id": "1ff56866-037c-4a2b-bd6a-b769d60d7482",
   "metadata": {},
   "outputs": [],
   "source": [
    "from sklearn.model_selection import GridSearchCV\n",
    "parameters = {'kernel':('linear', 'rbf'), 'C':[1, 10]}\n",
    "from sklearn.linear_model import Perceptron"
   ]
  },
  {
   "cell_type": "code",
   "execution_count": 3,
   "id": "4d63e11c-fafb-442b-aec0-aa893aa8b098",
   "metadata": {},
   "outputs": [],
   "source": [
    "parameters={'penalty':('l2','l1','elasticnet',None),'alpha':(0,1,2),'l1_ratio':(0,1,2),'fit_intercept':(True,False),'tol':(0,1,None),'shuffle':(True,False),'eta0':(0,1,2)}"
   ]
  },
  {
   "cell_type": "code",
   "execution_count": 4,
   "id": "0badf14c-fd8e-436e-9f57-577ea1a0b78c",
   "metadata": {},
   "outputs": [
    {
     "data": {
      "text/html": [
       "<style>#sk-container-id-1 {color: black;}#sk-container-id-1 pre{padding: 0;}#sk-container-id-1 div.sk-toggleable {background-color: white;}#sk-container-id-1 label.sk-toggleable__label {cursor: pointer;display: block;width: 100%;margin-bottom: 0;padding: 0.3em;box-sizing: border-box;text-align: center;}#sk-container-id-1 label.sk-toggleable__label-arrow:before {content: \"▸\";float: left;margin-right: 0.25em;color: #696969;}#sk-container-id-1 label.sk-toggleable__label-arrow:hover:before {color: black;}#sk-container-id-1 div.sk-estimator:hover label.sk-toggleable__label-arrow:before {color: black;}#sk-container-id-1 div.sk-toggleable__content {max-height: 0;max-width: 0;overflow: hidden;text-align: left;background-color: #f0f8ff;}#sk-container-id-1 div.sk-toggleable__content pre {margin: 0.2em;color: black;border-radius: 0.25em;background-color: #f0f8ff;}#sk-container-id-1 input.sk-toggleable__control:checked~div.sk-toggleable__content {max-height: 200px;max-width: 100%;overflow: auto;}#sk-container-id-1 input.sk-toggleable__control:checked~label.sk-toggleable__label-arrow:before {content: \"▾\";}#sk-container-id-1 div.sk-estimator input.sk-toggleable__control:checked~label.sk-toggleable__label {background-color: #d4ebff;}#sk-container-id-1 div.sk-label input.sk-toggleable__control:checked~label.sk-toggleable__label {background-color: #d4ebff;}#sk-container-id-1 input.sk-hidden--visually {border: 0;clip: rect(1px 1px 1px 1px);clip: rect(1px, 1px, 1px, 1px);height: 1px;margin: -1px;overflow: hidden;padding: 0;position: absolute;width: 1px;}#sk-container-id-1 div.sk-estimator {font-family: monospace;background-color: #f0f8ff;border: 1px dotted black;border-radius: 0.25em;box-sizing: border-box;margin-bottom: 0.5em;}#sk-container-id-1 div.sk-estimator:hover {background-color: #d4ebff;}#sk-container-id-1 div.sk-parallel-item::after {content: \"\";width: 100%;border-bottom: 1px solid gray;flex-grow: 1;}#sk-container-id-1 div.sk-label:hover label.sk-toggleable__label {background-color: #d4ebff;}#sk-container-id-1 div.sk-serial::before {content: \"\";position: absolute;border-left: 1px solid gray;box-sizing: border-box;top: 0;bottom: 0;left: 50%;z-index: 0;}#sk-container-id-1 div.sk-serial {display: flex;flex-direction: column;align-items: center;background-color: white;padding-right: 0.2em;padding-left: 0.2em;position: relative;}#sk-container-id-1 div.sk-item {position: relative;z-index: 1;}#sk-container-id-1 div.sk-parallel {display: flex;align-items: stretch;justify-content: center;background-color: white;position: relative;}#sk-container-id-1 div.sk-item::before, #sk-container-id-1 div.sk-parallel-item::before {content: \"\";position: absolute;border-left: 1px solid gray;box-sizing: border-box;top: 0;bottom: 0;left: 50%;z-index: -1;}#sk-container-id-1 div.sk-parallel-item {display: flex;flex-direction: column;z-index: 1;position: relative;background-color: white;}#sk-container-id-1 div.sk-parallel-item:first-child::after {align-self: flex-end;width: 50%;}#sk-container-id-1 div.sk-parallel-item:last-child::after {align-self: flex-start;width: 50%;}#sk-container-id-1 div.sk-parallel-item:only-child::after {width: 0;}#sk-container-id-1 div.sk-dashed-wrapped {border: 1px dashed gray;margin: 0 0.4em 0.5em 0.4em;box-sizing: border-box;padding-bottom: 0.4em;background-color: white;}#sk-container-id-1 div.sk-label label {font-family: monospace;font-weight: bold;display: inline-block;line-height: 1.2em;}#sk-container-id-1 div.sk-label-container {text-align: center;}#sk-container-id-1 div.sk-container {/* jupyter's `normalize.less` sets `[hidden] { display: none; }` but bootstrap.min.css set `[hidden] { display: none !important; }` so we also need the `!important` here to be able to override the default hidden behavior on the sphinx rendered scikit-learn.org. See: https://github.com/scikit-learn/scikit-learn/issues/21755 */display: inline-block !important;position: relative;}#sk-container-id-1 div.sk-text-repr-fallback {display: none;}</style><div id=\"sk-container-id-1\" class=\"sk-top-container\"><div class=\"sk-text-repr-fallback\"><pre>GridSearchCV(estimator=Perceptron(),\n",
       "             param_grid={&#x27;alpha&#x27;: (0, 1, 2), &#x27;eta0&#x27;: (0, 1, 2),\n",
       "                         &#x27;fit_intercept&#x27;: (True, False), &#x27;l1_ratio&#x27;: (0, 1, 2),\n",
       "                         &#x27;penalty&#x27;: (&#x27;l2&#x27;, &#x27;l1&#x27;, &#x27;elasticnet&#x27;, None),\n",
       "                         &#x27;shuffle&#x27;: (True, False), &#x27;tol&#x27;: (0, 1, None)})</pre><b>In a Jupyter environment, please rerun this cell to show the HTML representation or trust the notebook. <br />On GitHub, the HTML representation is unable to render, please try loading this page with nbviewer.org.</b></div><div class=\"sk-container\" hidden><div class=\"sk-item sk-dashed-wrapped\"><div class=\"sk-label-container\"><div class=\"sk-label sk-toggleable\"><input class=\"sk-toggleable__control sk-hidden--visually\" id=\"sk-estimator-id-1\" type=\"checkbox\" ><label for=\"sk-estimator-id-1\" class=\"sk-toggleable__label sk-toggleable__label-arrow\">GridSearchCV</label><div class=\"sk-toggleable__content\"><pre>GridSearchCV(estimator=Perceptron(),\n",
       "             param_grid={&#x27;alpha&#x27;: (0, 1, 2), &#x27;eta0&#x27;: (0, 1, 2),\n",
       "                         &#x27;fit_intercept&#x27;: (True, False), &#x27;l1_ratio&#x27;: (0, 1, 2),\n",
       "                         &#x27;penalty&#x27;: (&#x27;l2&#x27;, &#x27;l1&#x27;, &#x27;elasticnet&#x27;, None),\n",
       "                         &#x27;shuffle&#x27;: (True, False), &#x27;tol&#x27;: (0, 1, None)})</pre></div></div></div><div class=\"sk-parallel\"><div class=\"sk-parallel-item\"><div class=\"sk-item\"><div class=\"sk-label-container\"><div class=\"sk-label sk-toggleable\"><input class=\"sk-toggleable__control sk-hidden--visually\" id=\"sk-estimator-id-2\" type=\"checkbox\" ><label for=\"sk-estimator-id-2\" class=\"sk-toggleable__label sk-toggleable__label-arrow\">estimator: Perceptron</label><div class=\"sk-toggleable__content\"><pre>Perceptron()</pre></div></div></div><div class=\"sk-serial\"><div class=\"sk-item\"><div class=\"sk-estimator sk-toggleable\"><input class=\"sk-toggleable__control sk-hidden--visually\" id=\"sk-estimator-id-3\" type=\"checkbox\" ><label for=\"sk-estimator-id-3\" class=\"sk-toggleable__label sk-toggleable__label-arrow\">Perceptron</label><div class=\"sk-toggleable__content\"><pre>Perceptron()</pre></div></div></div></div></div></div></div></div></div></div>"
      ],
      "text/plain": [
       "GridSearchCV(estimator=Perceptron(),\n",
       "             param_grid={'alpha': (0, 1, 2), 'eta0': (0, 1, 2),\n",
       "                         'fit_intercept': (True, False), 'l1_ratio': (0, 1, 2),\n",
       "                         'penalty': ('l2', 'l1', 'elasticnet', None),\n",
       "                         'shuffle': (True, False), 'tol': (0, 1, None)})"
      ]
     },
     "execution_count": 4,
     "metadata": {},
     "output_type": "execute_result"
    }
   ],
   "source": [
    "clf = GridSearchCV(Perceptron(), parameters)\n",
    "import warnings\n",
    "warnings.filterwarnings(\"ignore\")\n",
    "clf.fit(X_train, y_train)"
   ]
  },
  {
   "cell_type": "code",
   "execution_count": 5,
   "id": "6e53635c-7b36-4b34-ae04-69b7ce0e0ac1",
   "metadata": {},
   "outputs": [],
   "source": [
    "predictions = clf.predict(X_test)"
   ]
  },
  {
   "cell_type": "code",
   "execution_count": 6,
   "id": "1acedca7-3c04-4c57-8979-8c7e2bceafce",
   "metadata": {},
   "outputs": [
    {
     "data": {
      "text/plain": [
       "(array([0.        , 0.37709497, 1.        ]),\n",
       " array([0.        , 0.76175041, 1.        ]),\n",
       " array([inf,  1.,  0.]))"
      ]
     },
     "execution_count": 6,
     "metadata": {},
     "output_type": "execute_result"
    }
   ],
   "source": [
    "import sklearn\n",
    "sklearn.metrics.roc_curve(y_test,predictions)"
   ]
  },
  {
   "cell_type": "code",
   "execution_count": 7,
   "id": "1586d9eb-f912-4544-ac1a-d99ae643db91",
   "metadata": {},
   "outputs": [
    {
     "data": {
      "text/plain": [
       "0.6923277165596733"
      ]
     },
     "execution_count": 7,
     "metadata": {},
     "output_type": "execute_result"
    }
   ],
   "source": [
    "sklearn.metrics.roc_auc_score(y_test,predictions)"
   ]
  },
  {
   "cell_type": "code",
   "execution_count": 8,
   "id": "c40ad2b8-bf03-4b0e-bd62-235d48151dd6",
   "metadata": {},
   "outputs": [
    {
     "data": {
      "text/plain": [
       "array([[446, 270],\n",
       "       [294, 940]], dtype=int64)"
      ]
     },
     "execution_count": 8,
     "metadata": {},
     "output_type": "execute_result"
    }
   ],
   "source": [
    "sklearn.metrics.confusion_matrix(y_test,predictions)"
   ]
  },
  {
   "cell_type": "code",
   "execution_count": 9,
   "id": "edbd3536-f1df-452d-a821-e2f117eed529",
   "metadata": {},
   "outputs": [
    {
     "data": {
      "text/plain": [
       "10.424933595621575"
      ]
     },
     "execution_count": 9,
     "metadata": {},
     "output_type": "execute_result"
    }
   ],
   "source": [
    "sklearn.metrics.log_loss(y_test,predictions)"
   ]
  },
  {
   "cell_type": "code",
   "execution_count": 10,
   "id": "c4851fd2-c4fa-4905-b205-6326698d7d27",
   "metadata": {},
   "outputs": [
    {
     "name": "stdout",
     "output_type": "stream",
     "text": [
      "0.7107692307692308\n"
     ]
    }
   ],
   "source": [
    "from sklearn.metrics import accuracy_score\n",
    "print(accuracy_score(y_test, predictions))"
   ]
  },
  {
   "cell_type": "code",
   "execution_count": 11,
   "id": "6a6fbe1c-593f-4412-a90f-46e95a846def",
   "metadata": {},
   "outputs": [
    {
     "data": {
      "text/plain": [
       "array([0.61263736, 0.76923077])"
      ]
     },
     "execution_count": 11,
     "metadata": {},
     "output_type": "execute_result"
    }
   ],
   "source": [
    "sklearn.metrics.f1_score(y_test,predictions,average=None)"
   ]
  },
  {
   "cell_type": "code",
   "execution_count": 12,
   "id": "eb4cfcc8-21e1-4773-b3ec-6517448ecb7b",
   "metadata": {},
   "outputs": [
    {
     "data": {
      "text/plain": [
       "<sklearn.metrics._plot.roc_curve.RocCurveDisplay at 0x234df502e40>"
      ]
     },
     "execution_count": 12,
     "metadata": {},
     "output_type": "execute_result"
    },
    {
     "data": {
      "image/png": "[encoded data removed]",
      "text/plain": [
       "<Figure size 500x500 with 1 Axes>"
      ]
     },
     "metadata": {},
     "output_type": "display_data"
    }
   ],
   "source": [
    "predictions_train = clf.predict(X_train)\n",
    "from sklearn.metrics import RocCurveDisplay\n",
    "import matplotlib.pyplot as plt\n",
    "fig, ax = plt.subplots(figsize=(5,5))\n",
    "RocCurveDisplay.from_predictions(y_test,predictions, ax=ax, label='Test ROC')\n",
    "RocCurveDisplay.from_predictions(y_train,predictions_train, ax=ax, label='Train ROC')"
   ]
  }
 ],
 "metadata": {
  "kernelspec": {
   "display_name": "Python 3 (ipykernel)",
   "language": "python",
   "name": "python3"
  },
  "language_info": {
   "codemirror_mode": {
    "name": "ipython",
    "version": 3
   },
   "file_extension": ".py",
   "mimetype": "text/x-python",
   "name": "python",
   "nbconvert_exporter": "python",
   "pygments_lexer": "ipython3",
   "version": "3.12.2"
  }
 },
 "nbformat": 4,
 "nbformat_minor": 5
}
